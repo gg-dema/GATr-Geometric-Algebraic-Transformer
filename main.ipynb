{
 "cells": [
  {
   "cell_type": "code",
   "execution_count": 1,
   "metadata": {},
   "outputs": [
    {
     "name": "stderr",
     "output_type": "stream",
     "text": [
      "Seed set to 0\n"
     ]
    }
   ],
   "source": [
    "import os, sys\n",
    "sys.path.append('./src')\n",
    "\n",
    "import numpy as np\n",
    "\n",
    "import torch\n",
    "import torch.nn as nn\n",
    "from torchmetrics.functional import accuracy, f1_score\n",
    "\n",
    "import pytorch_lightning as pl\n",
    "from pytorch_lightning.loggers import CSVLogger\n",
    "\n",
    "# parameters and annotation \n",
    "from dataclasses import dataclass, field\n",
    "from typing import Dict\n",
    "\n",
    "# Data Visualization\n",
    "import pyvista as pv        \n",
    "import pyvistaqt as pvqt\n",
    "import matplotlib.pyplot as plt\n",
    "import ipywidgets as widgets\n",
    "from IPython.display import (\n",
    "    display,\n",
    "    clear_output,\n",
    "    HTML\n",
    ")\n",
    "\n",
    "# Logs\n",
    "from prettytable import PrettyTable\n",
    "# tensorboard? w&b? \n",
    "\n",
    "# Data Management\n",
    "import h5py \n",
    "from src.data_preprocessing.dataset import MVDataset\n",
    "from src.data_preprocessing.data_module import MVDataModule\n",
    "\n",
    "# GATr layers: \n",
    "from src.GA_layers.Linears import (EquiLinear, Bilinear)                  \n",
    "from src.GA_layers.Activatons import EquiGeLU\n",
    "from src.GA_layers.NormLayers import EquiNormLayer\n",
    "from src.GA_layers.Attentions import EquiMultiHeadAttention\n",
    "\n",
    "# GATr utils\n",
    "import src.Utils.geometric_utility as GA_utility\n",
    "from src.Utils.equivariance_check import equivariance_check\n",
    "\n",
    "# Generic setting:\n",
    "pv.set_jupyter_backend('trame')     # data visualization\n",
    "pl.seed_everything(0)               # reproducibility\n",
    "\n",
    "torch.set_float32_matmul_precision('medium')\n",
    "device = torch.device('cuda' if torch.cuda.is_available else 'cpu')"
   ]
  },
  {
   "cell_type": "code",
   "execution_count": 2,
   "metadata": {},
   "outputs": [],
   "source": [
    "model_table = PrettyTable()\n",
    "model_table.field_names = [\"Model\", \"f1_train\", \"f1_test\", \"params numb\", \"equivariance\", \"epochs req\"]\n"
   ]
  },
  {
   "cell_type": "markdown",
   "metadata": {},
   "source": [
    "# Intro, Data Analysis\n",
    "- sub-section 1<br> \n",
    " the next session of the notebook present the dataset,\n",
    " our task and analize the statistc of the dataset. \n",
    "- sub-section 2<br>\n",
    " It will also present the strategy of downsample of the dataset"
   ]
  },
  {
   "cell_type": "code",
   "execution_count": 3,
   "metadata": {},
   "outputs": [],
   "source": [
    "path = 'datasets/test'\n",
    "# path = 'datasets/original_datasets\n",
    "dataset = MVDataset()\n",
    "# this contains raw data at the moment\n",
    "dataset.load_data_files([os.path.join(path, file) for file in os.listdir(path) if file.endswith('.hdf5')])"
   ]
  },
  {
   "cell_type": "code",
   "execution_count": 5,
   "metadata": {},
   "outputs": [
    {
     "data": {
      "application/vnd.jupyter.widget-view+json": {
       "model_id": "9ef2f1b269b64ccd9db80d65e7cd9437",
       "version_major": 2,
       "version_minor": 0
      },
      "text/plain": [
       "IntText(value=10)"
      ]
     },
     "metadata": {},
     "output_type": "display_data"
    },
    {
     "data": {
      "application/vnd.jupyter.widget-view+json": {
       "model_id": "6531f1ff1f8e4879813f25487b884be2",
       "version_major": 2,
       "version_minor": 0
      },
      "text/plain": [
       "Button(description='Render', style=ButtonStyle())"
      ]
     },
     "metadata": {},
     "output_type": "display_data"
    },
    {
     "data": {
      "application/vnd.jupyter.widget-view+json": {
       "model_id": "ba3400584e894701ba07bf171947a1c0",
       "version_major": 2,
       "version_minor": 0
      },
      "text/plain": [
       "Widget(value='<iframe src=\"http://localhost:39653/index.html?ui=P_0x7c725bfab160_3&reconnect=auto\" class=\"pyvi…"
      ]
     },
     "metadata": {},
     "output_type": "display_data"
    }
   ],
   "source": [
    "def render_sample(id: int):\n",
    "    \"\"\"render one sample of the dataset\"\"\"\n",
    "\n",
    "        \n",
    "    face = dataset.X[id]['face'].numpy()\n",
    "    pos = dataset.X[id]['pos'].numpy()\n",
    "\n",
    "\n",
    "    triangles = (np.ones(face.shape[0], dtype=np.int32)*3).reshape(-1, 1)\n",
    "\n",
    "    face_mesh = np.concatenate((triangles, face), axis=-1)\n",
    "    face_mesh = face_mesh\n",
    "    colors = torch.ones(pos.shape[0], 3)\n",
    "    colors[dataset.X[id]['inlet_idcs']] = 0\n",
    "\n",
    "    mesh = pv.PolyData(pos, face_mesh)\n",
    "    mesh.point_data['inlet'] = colors\n",
    "    plotter = pv.Plotter(notebook=True)\n",
    "    plotter.add_mesh(mesh, scalars='inlet', show_edges=True)\n",
    "    plotter.show(auto_close=True)\n",
    "\n",
    "def callback(id):\n",
    "    clear_output()\n",
    "    display(input_box, button)\n",
    "    render_sample(input_box.value)\n",
    "\n",
    "#description_html = HTML(\"<p><b>Sample Visualization:</b> Select a sample ID and click 'Render' to visualize it.\" +\n",
    "#                        \"<br>The rendering is interactive, you can zoom in/out and rotate the view\" +\n",
    "#                        \"<br><code>[Under 2000 are single, then bifurcating]<code></p>\")\n",
    "input_box = widgets.IntText(value=10, description='', min=0, max=dataset.__len__()-1)\n",
    "button = widgets.Button(description='Render')  \n",
    "\n",
    "button.on_click(callback)\n",
    "#display(description_html, input_box, button)\n",
    "display(input_box, button)\n",
    "render_sample(0)"
   ]
  },
  {
   "cell_type": "code",
   "execution_count": 6,
   "metadata": {},
   "outputs": [],
   "source": [
    "def max_min_for_1D_labels(X:np.array, y:np.array):\n",
    "    out_dict = {}\n",
    "    unique_labels = np.unique(y)\n",
    "    for label in unique_labels:\n",
    "        idx = np.where(y==label)\n",
    "        X_max = np.max(X[idx])\n",
    "        X_min = np.min(X[idx])\n",
    "        out_dict[label] = [X_max, X_min]\n",
    "    return out_dict\n"
   ]
  },
  {
   "cell_type": "code",
   "execution_count": 7,
   "metadata": {},
   "outputs": [
    {
     "data": {
      "text/plain": [
       "<matplotlib.patches.Rectangle at 0x7c737e1ea800>"
      ]
     },
     "execution_count": 7,
     "metadata": {},
     "output_type": "execute_result"
    },
    {
     "data": {
      "image/png": "[encoded data removed]",
      "text/plain": [
       "<Figure size 640x480 with 1 Axes>"
      ]
     },
     "metadata": {},
     "output_type": "display_data"
    }
   ],
   "source": [
    "mean_pressure_X = []\n",
    "mean_pressure_y = []\n",
    "for i in range(dataset.__len__()):\n",
    "    mean_pressure_X.append(dataset.X[i]['pressure'].mean().numpy())\n",
    "    mean_pressure_y.append(dataset.y[i].numpy())\n",
    "\n",
    "mean_pressure_X = np.array(mean_pressure_X)\n",
    "mean_pressure_Y = np.array(mean_pressure_y)\n",
    "\n",
    "scatter = plt.scatter(mean_pressure_X, np.zeros_like(mean_pressure_X), c=mean_pressure_Y)\n",
    "handles, labels = scatter.legend_elements(prop=\"colors\")\n",
    "labels_dict = {0: 'single', 1: 'bifurcating'}  \n",
    "plt.legend([handles[0], handles[1]], [labels_dict[0], labels_dict[1]])\n",
    "plt.title(\"Mean Pressure\")\n",
    "\n",
    "min_max = max_min_for_1D_labels(mean_pressure_X, mean_pressure_Y)\n",
    "plt.axvline(x=min_max[0][0], color='purple', linestyle='--')\n",
    "plt.axvline(x=min_max[0][1], color='purple', linestyle='--')\n",
    "plt.axvspan(min_max[0][0], min_max[0][1], color='purple', alpha=0.2)\n",
    "\n",
    "plt.axvline(x=min_max[1][0], color='yellow', linestyle='--')\n",
    "plt.axvline(x=min_max[1][1], color='yellow', linestyle='--')\n",
    "plt.axvspan(min_max[1][0], min_max[1][1], color='yellow', alpha=0.3)\n",
    "\n"
   ]
  },
  {
   "cell_type": "code",
   "execution_count": 8,
   "metadata": {},
   "outputs": [
    {
     "data": {
      "text/plain": [
       "<matplotlib.patches.Rectangle at 0x7c7263b04bb0>"
      ]
     },
     "execution_count": 8,
     "metadata": {},
     "output_type": "execute_result"
    },
    {
     "data": {
      "image/png": "[encoded data removed]",
      "text/plain": [
       "<Figure size 640x480 with 1 Axes>"
      ]
     },
     "metadata": {},
     "output_type": "display_data"
    }
   ],
   "source": [
    "mean_wss_X, mean_wss_y = [], []\n",
    "for i in range(dataset.__len__()):\n",
    "    mean_wss_X.append(dataset.X[i]['wss'].mean().numpy())\n",
    "    mean_wss_y.append(dataset.y[i].numpy())\n",
    "\n",
    "\n",
    "mean_wss_X = np.array(mean_wss_X)\n",
    "mean_wss_y = np.array(mean_wss_y)\n",
    "    \n",
    "scatter = plt.scatter(mean_wss_X, np.zeros_like(mean_wss_X), c=mean_wss_y)\n",
    "handles, labels = scatter.legend_elements(prop=\"colors\")\n",
    "labels_dict = {0: 'single', 1: 'bifurcating'}  \n",
    "plt.legend([handles[0], handles[1]], [labels_dict[0], labels_dict[1]])\n",
    "plt.title(\"Mean Wall Stress S..\")\n",
    "\n",
    "\n",
    "min_max = max_min_for_1D_labels(mean_wss_X, mean_wss_y)\n",
    "plt.axvline(x=min_max[0][0], color='purple', linestyle='--')\n",
    "plt.axvline(x=min_max[0][1], color='purple', linestyle='--')\n",
    "plt.axvspan(min_max[0][0], min_max[0][1], color='purple', alpha=0.2)\n",
    "\n",
    "plt.axvline(x=min_max[1][0], color='yellow', linestyle='--')\n",
    "plt.axvline(x=min_max[1][1], color='yellow', linestyle='--')\n",
    "plt.axvspan(min_max[1][0], min_max[1][1], color='yellow', alpha=0.3)\n"
   ]
  },
  {
   "cell_type": "markdown",
   "metadata": {},
   "source": [
    "# Dummy classifier for show how easy is to reconstruct the task"
   ]
  },
  {
   "cell_type": "code",
   "execution_count": 9,
   "metadata": {},
   "outputs": [
    {
     "name": "stdout",
     "output_type": "stream",
     "text": [
      "accuracy: train = 0.9671875238418579, test = 0.9750000238418579,\n",
      "\n",
      "\n",
      " +----------+-------------------+-------------------+-------------+--------------+------------+\n",
      "|  Model   |      f1_train     |      f1_test      | params numb | equivariance | epochs req |\n",
      "+----------+-------------------+-------------------+-------------+--------------+------------+\n",
      "| dummyMlp | 0.977011501789093 | 0.977011501789093 |     121     |      no      |   15000    |\n",
      "+----------+-------------------+-------------------+-------------+--------------+------------+\n"
     ]
    }
   ],
   "source": [
    "\n",
    "\n",
    "class DummyClassifier(torch.nn.Module):\n",
    "    def __init__(self):\n",
    "        super(DummyClassifier, self).__init__()\n",
    "        self.L1 = torch.nn.Linear(2, 30)\n",
    "        self.L2 = torch.nn.Linear(30, 1)\n",
    "        self.act = torch.nn.ReLU()\n",
    "    \n",
    "    def forward(self, x):\n",
    "        h = self.act(self.L1(x))\n",
    "        return (self.L2(h))\n",
    "    \n",
    "\n",
    "model = DummyClassifier().to(device)\n",
    "cross_entropy = nn.BCEWithLogitsLoss().to(device)\n",
    "optimizer = torch.optim.Adam(model.parameters())\n",
    "epochs = 15_000\n",
    "\n",
    "Xy = torch.stack((\n",
    "    torch.from_numpy(mean_pressure_X), \n",
    "    torch.from_numpy(mean_wss_X),\n",
    "    torch.from_numpy(mean_wss_y)\n",
    "    ),\n",
    "    dim=-1).to(device)\n",
    "Xy = Xy[torch.randperm(Xy.shape[0])]\n",
    "\n",
    "train_size = int(0.8*Xy.shape[0])\n",
    "Xy_train, Xy_test = Xy[:train_size, :], Xy[train_size:, :]\n",
    "\n",
    "\n",
    "for epoch in range(epochs):\n",
    "    Xy_train = Xy_train[torch.randperm(Xy_train.shape[0])]\n",
    "    X, y = Xy_train[:, :2], Xy_train[:, 2]\n",
    "    optimizer.zero_grad()\n",
    "    y_hat = model(X).squeeze(-1)\n",
    "    loss = cross_entropy(y_hat, y)\n",
    "    loss.backward()\n",
    "    optimizer.step()\n",
    "\n",
    "y_hat_test = model(Xy_test[:, :2]).squeeze(-1)\n",
    "y_hat_train = model(Xy_train[:, :2]).squeeze(-1)\n",
    "\n",
    "acc_train = accuracy(y_hat_train, Xy_train[:, 2], task='binary')\n",
    "acc_test = accuracy(y_hat_test, Xy_test[:, 2], task='binary')\n",
    "print(f\"accuracy: train = {acc_train}, test = {acc_test},\")\n",
    "\n",
    "f1_test = f1_score(y_hat_test, Xy_test[:, 2], task='binary')\n",
    "f1_train = f1_score(y_hat_test, Xy_test[:, 2], task='binary')\n",
    "\n",
    "model_table.add_row([\"dummyMlp\",           \n",
    "              f1_train.item(),\n",
    "              f1_test.item(),\n",
    "              sum([p.numel() for p in model.parameters()]),\n",
    "              \"no\",\n",
    "              epochs])\n",
    "\n",
    "print(\"\\n\\n\", model_table)"
   ]
  },
  {
   "cell_type": "markdown",
   "metadata": {},
   "source": [
    "# preprocessing of env : \n",
    " clone github\n",
    "\n",
    " unzip data\n",
    "\n",
    " mv the data to original dataset, then split it. \n",
    "\n",
    "\n",
    " generic= : include tensorboard or any other method for visualize the data"
   ]
  },
  {
   "cell_type": "code",
   "execution_count": null,
   "metadata": {},
   "outputs": [],
   "source": [
    "# first section, data loading and plot some cool graph. show the features and the linear separability of the data\n",
    "\n",
    "# if remove wss, explain why \n",
    "\n",
    "# first attemp, just transformers, no equivariance\n",
    "\n",
    "# explanaition of the layers, and equivariance check\n",
    "\n",
    "# second attemp, equivariance GATr Classifier\n",
    "\n",
    "# conclusion\n",
    "\n",
    "\n"
   ]
  },
  {
   "cell_type": "markdown",
   "metadata": {},
   "source": [
    "A possible implementation for manage the dataset (workflow)\n",
    "\n",
    "1 - download the original file \n",
    "\n",
    "2 - instanciate the data-preprocessing module for convert the data in raw format in the required format\n",
    "\n",
    "3 - save in train and test\n",
    "\n",
    "4 - use the MVDataModule (lightning) for load the 2 file --> convert the data in mv in prepare data\n",
    "\n",
    "5 - use the lightning utility"
   ]
  },
  {
   "cell_type": "markdown",
   "metadata": {},
   "source": [
    "# BASE Line: non-equivariant MultiVect Transformer"
   ]
  },
  {
   "cell_type": "code",
   "execution_count": null,
   "metadata": {},
   "outputs": [],
   "source": []
  },
  {
   "cell_type": "markdown",
   "metadata": {},
   "source": [
    "# GATr"
   ]
  },
  {
   "cell_type": "markdown",
   "metadata": {},
   "source": [
    "GATR Description BLA BLA BLA YEE\n"
   ]
  },
  {
   "cell_type": "code",
   "execution_count": 5,
   "metadata": {},
   "outputs": [
    {
     "data": {
      "text/plain": [
       "<torch.autograd.grad_mode.set_grad_enabled at 0x7f30d1fe9270>"
      ]
     },
     "execution_count": 5,
     "metadata": {},
     "output_type": "execute_result"
    }
   ],
   "source": [
    "\n",
    "BLA BLABLBALDLB"
   ]
  },
  {
   "cell_type": "markdown",
   "metadata": {},
   "source": [
    "# EQUIVARIANCE RESULTS"
   ]
  },
  {
   "cell_type": "code",
   "execution_count": 87,
   "metadata": {},
   "outputs": [],
   "source": [
    "SPIN_GROUP_OPERATOR = [\n",
    "    'translation',\n",
    "    'rotation',\n",
    "    'point reflection',\n",
    "    'plane reflection'\n",
    "]\n",
    "\n",
    "def update_equivariance_log_table(x, layer, table):\n",
    "\n",
    "    avg_deltas = []\n",
    "    for transformation in SPIN_GROUP_OPERATOR:\n",
    "        Ty, yT = equivariance_check(x, layer, transformation, return_val=True, device=device)\n",
    "        avg_deltas.append((Ty - yT).mean().item())\n",
    "\n",
    "    table.add_row([\n",
    "        str(type(layer)),\n",
    "        *avg_deltas\n",
    "    ])\n",
    "    \n",
    "    return table"
   ]
  },
  {
   "cell_type": "code",
   "execution_count": 93,
   "metadata": {},
   "outputs": [
    {
     "name": "stdout",
     "output_type": "stream",
     "text": [
      "+-----------------------------------------------------------+-------------------------+-------------------------+-------------------------+-----------------------+\n",
      "|                           layer                           |       translation       |         rotation        |     point reflection    |    plane reflection   |\n",
      "+-----------------------------------------------------------+-------------------------+-------------------------+-------------------------+-----------------------+\n",
      "|         <class 'src.GA_layers.Linears.EquiLinear'>        | -2.6094899112649728e-06 | -1.4339096878757118e-06 |  5.206457444728585e-06  |  -0.03324194252490997 |\n",
      "|          <class 'src.GA_layers.Linears.Bilinear'>         |  0.0002685528597794473  |   4.74962180305738e-05  |   0.06449580192565918   |  -0.5285699367523193  |\n",
      "|        <class 'src.GA_layers.Activatons.EquiGeLU'>        | -4.5040227103498864e-10 |  -2.644065633106152e-09 |  -5.713055584166682e-10 | 9.875661399760816e-10 |\n",
      "|      <class 'src.GA_layers.NormLayers.EquiNormLayer'>     |  -5.044351603089581e-10 |  -7.260624740323962e-11 | -1.5907397621361952e-10 | -8.24994517145683e-11 |\n",
      "| <class 'src.GA_layers.Attentions.EquiMultiHeadAttention'> |  1.2353769307082985e-05 | -0.00013424409553408623 |  -6.653167019976536e-06 |  0.09738992899656296  |\n",
      "+-----------------------------------------------------------+-------------------------+-------------------------+-------------------------+-----------------------+\n"
     ]
    },
    {
     "data": {
      "text/plain": [
       "<torch.autograd.grad_mode.set_grad_enabled at 0x7f2f655c02b0>"
      ]
     },
     "execution_count": 93,
     "metadata": {},
     "output_type": "execute_result"
    }
   ],
   "source": [
    "# For this part of the notebook we don't need any grad\n",
    "torch.set_grad_enabled(False) \n",
    "\n",
    "# Let's mimic a random batch for a multivector\n",
    "# [batch, seq_len, channels, mv_dim]\n",
    "x = torch.randn(32, 30, 4, 16).to(device)\n",
    "\n",
    "# create table for store our results\n",
    "table = PrettyTable(\n",
    "        field_names=['layer', 'translation', 'rotation', 'point reflection', 'plane reflection']\n",
    ")\n",
    "\n",
    "# Instanciate single layer\n",
    "equi_lin = EquiLinear(in_channels=4, out_channels=4).to(device)\n",
    "bilinear = Bilinear(in_channels=4, out_channels=4).to(device)\n",
    "gated_gelu = EquiGeLU().to(device)\n",
    "equi_norm = EquiNormLayer().to(device)\n",
    "equi_attention = EquiMultiHeadAttention(n_head=2, hidden_channels=4).to(device)\n",
    "\n",
    "# update table by running the equivariance test\n",
    "update_equivariance_log_table(x, equi_lin, table)\n",
    "update_equivariance_log_table(x, bilinear, table)\n",
    "update_equivariance_log_table(x, gated_gelu, table)\n",
    "update_equivariance_log_table(x, equi_norm, table)\n",
    "update_equivariance_log_table(x, equi_attention, table)\n",
    "\n",
    "print(table)\n",
    "\n",
    "# restrore the grad\n",
    "torch.set_grad_enabled(True)"
   ]
  },
  {
   "cell_type": "code",
   "execution_count": 2,
   "metadata": {},
   "outputs": [],
   "source": [
    "\"\"\" define all the parameters of the models and the training process \"\"\"\n",
    "\n",
    "@dataclass\n",
    "class Parameters:\n",
    "\n",
    "\n",
    "    \"\"\" MODEL PARAMETERS \"\"\"\n",
    "\n",
    "    inputLayer_input_channels: int =  4     # number of starting channels\n",
    "    inputLayer_output_channels: int = 8     # number of first hidden channels\n",
    "\n",
    "    hiddenLayer_channels: int = 16          # number of hidden channels of GATr block\n",
    "    \n",
    "    n_heads: int = 4                        # number of heads in multihead attention\n",
    "    n_blocks: int = 2                       # number of GATr blocks\n",
    "\n",
    "    outputLayer_output_channels: int = 1    # number of output channels\n",
    "    \n",
    "\n",
    "    \"\"\" TRAINING PARAMETERS \"\"\"\n",
    "\n",
    "    batch_size: int = 32\n",
    "    learning_rate: float = 0.001    # adam learning rate\n",
    "    weight_decay: float = 0.0       # adam weight decay\n",
    "\n",
    "    criterion_type: str = \"logit\"   # specify if the model output the logit or the probability\n",
    "                                    # option [\"logit\", \"prob\"]\n",
    "\n",
    "    max_epochs: int = 30            # number of epochs\n",
    "    \n",
    "    load_weights: bool = False      # if True, the model will load the weights\n",
    "    weights_path: str = None        # path to the weights to load\n",
    "\n",
    "    grade_track_norm: int = 0       # the l-norm of the grad to track, None for not tracking\n",
    "    gradient_clip_val: float = 0.1  # gradient clipping value,         None for not clipping\n",
    "\n",
    "    \"\"\" DATA PARAMETERS \"\"\"\n",
    "\n",
    "    datasets_path: str = \"datasets\" # path to the datasets\n",
    "    load_dataset: bool = True       # if True, the model will load the dataset in the MV format\n",
    "    n_samples: int = 0              # number of samples in the dataset\n",
    "    n_resempling: int = 0           # number of resempling of the dataset\n",
    "    sequence_len: int = n_samples * n_resempling    # number of element in a sequence\n",
    "    selected_featured: Dict[str, bool] = field(\n",
    "        default_factory=lambda:{\n",
    "            'wss': True, \n",
    "            'pos': True, \n",
    "            'pressure': True, \n",
    "            'inlet': False, \n",
    "            'face': True\n",
    "    })\n",
    "    \"\"\" GENERIC \"\"\"\n",
    "    device: torch.device = device   # device automatically setted \n",
    "    MV_dim: int = 16                # mutlivector dimension --> in 3D PGA: 16\n",
    "\n",
    "parameters = Parameters()"
   ]
  },
  {
   "cell_type": "code",
   "execution_count": 3,
   "metadata": {},
   "outputs": [],
   "source": [
    "\n",
    "data_module = MVDataModule(\n",
    "    datasets_path=parameters.datasets_path, \n",
    "    load_dataset=parameters.load_dataset,\n",
    "    n_samples=parameters.n_samples,  \n",
    "    n_resempling=parameters.n_resempling,\n",
    "    batch_size=parameters.batch_size\n",
    ")\n"
   ]
  },
  {
   "cell_type": "code",
   "execution_count": 92,
   "metadata": {},
   "outputs": [],
   "source": [
    "class GATrBlock(nn.Module):\n",
    "\n",
    "    def __init__(self, params):\n",
    "        super(GATrBlock, self).__init__()\n",
    "        \n",
    "        self.sub_module_block1 = nn.Sequential(\n",
    "            EquiNormLayer(),\n",
    "            EquiLinear(params.inputLayer_output_channels, params.hiddenLayer_channels),\n",
    "            EquiMultiHeadAttention(n_head=params.n_heads, hidden_channels=params.hiddenLayer_channels),\n",
    "            EquiLinear(params.hiddenLayer_channels, params.inputLayer_output_channels)\n",
    "        )\n",
    "        # then residual sum 1\n",
    "        self.sub_module_block2 = nn.Sequential(\n",
    "            EquiNormLayer(),\n",
    "            EquiLinear(params.inputLayer_output_channels, params.hiddenLayer_channels),\n",
    "            Bilinear(params.hiddenLayer_channels, params.hiddenLayer_channels),\n",
    "            EquiGeLU(),\n",
    "            EquiLinear(params.hiddenLayer_channels, params.inputLayer_output_channels)\n",
    "        )\n",
    "        # then residual sum 2\n",
    "\n",
    "    def forward(self, x):\n",
    "        out1 = self.sub_module_block1(x)\n",
    "        out1 += x \n",
    "        out2 = self.sub_module_block2(out1)\n",
    "        return out2 + out1\n"
   ]
  },
  {
   "cell_type": "code",
   "execution_count": 93,
   "metadata": {},
   "outputs": [
    {
     "name": "stdout",
     "output_type": "stream",
     "text": [
      "Layer: 1.weight_Mv | Size: torch.Size([16, 8, 9]) | Requires Grad: True\n",
      "Layer: 2.qkv_layer.weight_Mv | Size: torch.Size([192, 16, 9]) | Requires Grad: True\n",
      "Layer: 2.out_proj.weight_Mv | Size: torch.Size([16, 64, 9]) | Requires Grad: True\n",
      "Layer: 3.weight_Mv | Size: torch.Size([8, 16, 9]) | Requires Grad: True\n"
     ]
    }
   ],
   "source": [
    "gat = GATrBlock(parameters)\n",
    "for name, param in gat.sub_module_block1.named_parameters():\n",
    "        print(f\"Layer: {name} | Size: {param.size()} | Requires Grad: {param.requires_grad}\")"
   ]
  },
  {
   "cell_type": "code",
   "execution_count": 94,
   "metadata": {},
   "outputs": [],
   "source": [
    "class GATr(nn.Module):\n",
    "\n",
    "    def __init__(self, params):\n",
    "        super(GATr, self).__init__()\n",
    "        \n",
    "        # LAYERS\n",
    "\n",
    "        # input\n",
    "        self.input_layer = EquiLinear(params.inputLayer_input_channels, params.inputLayer_output_channels)\n",
    "        \n",
    "        # GATr blocks\n",
    "        blocks = [GATrBlock(params) for _ in range(params.n_blocks)]\n",
    "        self.blocks = nn.Sequential(*blocks)\n",
    "                \n",
    "        # final projection\n",
    "        self.output_layer = EquiLinear(params.inputLayer_output_channels, params.outputLayer_output_channels)\n",
    "\n",
    "        # LOADING WEIGHTS\n",
    "        if params.load_weights:\n",
    "            self.load_state_dict(torch.load(params.weights_path))\n",
    "        \n",
    "\n",
    "\n",
    "    def forward(self, x):\n",
    "        x = self.input_layer(x)\n",
    "        x = self.blocks(x)\n",
    "        return self.output_layer(x)\n",
    "    "
   ]
  },
  {
   "cell_type": "code",
   "execution_count": 95,
   "metadata": {},
   "outputs": [],
   "source": [
    "class GATrClassifierLightning(pl.LightningModule):\n",
    "\n",
    "    def __init__(self, parameters):\n",
    "\n",
    "        super(GATrClassifierLightning, self).__init__()\n",
    "\n",
    "    \n",
    "        self.gatr_backbone = GATr(parameters).to(parameters.device)\n",
    "        self.classifier = nn.Linear(parameters.MV_dim, 1)\n",
    "\n",
    "        if parameters.criterion_type == \"logit\":\n",
    "            self.out_funct = nn.Identity()\n",
    "            self.criterion = nn.BCEWithLogitsLoss()\n",
    "\n",
    "        elif parameters.criterion_type == \"prob\": \n",
    "            self.out_funct = nn.Sigmoid()\n",
    "            self.criterion = nn.BCELoss()\n",
    "\n",
    "        self.batch_size = parameters.batch_size\n",
    "        self.lr = parameters.learning_rate\n",
    "        self.weight_decay = parameters.weight_decay\n",
    "\n",
    "\n",
    "    def forward(self, x):\n",
    "        \n",
    "        # forward step on the gatr\n",
    "        out_gatr = self.gatr_backbone(x)   # return [batch, seq_len, channels(1), 16]\n",
    "        \n",
    "        # mean pooling over sequence:\n",
    "        pooling = out_gatr.squeeze(-2).mean(-2) # return [batch, 16]\n",
    "        \n",
    "        # classifier\n",
    "        logit = self.classifier(pooling)\n",
    "\n",
    "        # apply sigmoid if required, else return identity\n",
    "        return self.out_funct(logit)\n",
    "    \n",
    "    \n",
    "    def training_step(self, batch):\n",
    "        x, y = batch\n",
    "        y_hat = self.forward(x).squeeze(-1)\n",
    "        loss = self.criterion(y_hat, y)\n",
    "        self.log('train loss', loss, on_epoch=True)\n",
    "        return loss        \n",
    "    \n",
    "    def validation_step(self, batch):\n",
    "        x, y = batch\n",
    "\n",
    "        y_hat = self.forward(x).squeeze(-1)\n",
    "        \n",
    "        loss = self.criterion(y_hat, y)\n",
    "        acc = accuracy(y_hat, y, task='binary')\n",
    "        \n",
    "        self.log('val_acc', acc, on_epoch=True, prog_bar=True)\n",
    "        self.log('val loss', loss, on_epoch=True, prog_bar=True)\n",
    "        \n",
    "        log_dict = dict({\n",
    "            'val_loss': loss,\n",
    "            'val_acc': acc\n",
    "        })\n",
    "        \n",
    "        return log_dict\n",
    "    \n",
    "    def test_step(self, batch):\n",
    "        x, y = batch\n",
    "        y_hat = self.forward(x).squeeze(-1)\n",
    "        loss = self.criterion(y_hat, y)\n",
    "        acc = accuracy(y_hat, y, task='binary')\n",
    "        self.log('test_acc', acc, on_epoch=True, prog_bar=True)\n",
    "        log_dict = dict({\n",
    "            'test_loss': loss,\n",
    "            'test_acc': acc\n",
    "        })\n",
    "        return log_dict\n",
    "\n",
    "    \n",
    "    def configure_optimizers(self):\n",
    "        return torch.optim.Adam(self.parameters(), lr=self.lr, weight_decay=self.weight_decay)"
   ]
  },
  {
   "cell_type": "code",
   "execution_count": 96,
   "metadata": {},
   "outputs": [
    {
     "name": "stderr",
     "output_type": "stream",
     "text": [
      "GPU available: True (cuda), used: True\n",
      "TPU available: False, using: 0 TPU cores\n",
      "IPU available: False, using: 0 IPUs\n",
      "HPU available: False, using: 0 HPUs\n",
      "/home/dema/Project/GAT/.venv/lib/python3.10/site-packages/pytorch_lightning/trainer/connectors/logger_connector/logger_connector.py:75: Starting from v1.9.0, `tensorboardX` has been removed as a dependency of the `pytorch_lightning` package, due to potential conflicts with other packages in the ML ecosystem. For this reason, `logger=True` will use `CSVLogger` as the default logger, unless the `tensorboard` or `tensorboardX` packages are found. Please `pip install lightning[extra]` or one of them to enable TensorBoard support by default\n"
     ]
    }
   ],
   "source": [
    "#gatrLight = GATrClassifierLightning(parameters).to(device)\n",
    "trainer = pl.Trainer(\n",
    "    logger=CSVLogger('logs', name='GATrClassifier'),\n",
    "    max_epochs=parameters.max_epochs,\n",
    "    gradient_clip_val=parameters.gradient_clip_val\n",
    "    \n",
    ")"
   ]
  }
 ],
 "metadata": {
  "kernelspec": {
   "display_name": ".venv",
   "language": "python",
   "name": "python3"
  },
  "language_info": {
   "codemirror_mode": {
    "name": "ipython",
    "version": 3
   },
   "file_extension": ".py",
   "mimetype": "text/x-python",
   "name": "python",
   "nbconvert_exporter": "python",
   "pygments_lexer": "ipython3",
   "version": "3.10.12"
  }
 },
 "nbformat": 4,
 "nbformat_minor": 2
}
